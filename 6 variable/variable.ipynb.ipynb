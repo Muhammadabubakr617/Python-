{
 "cells": [
  {
   "cell_type": "markdown",
   "metadata": {},
   "source": [
    "# **Variable**\n",
    "\n",
    "Definition of a Variable\n",
    "A variable is a symbolic name that stores data, which can be changed during program execution.\n",
    "\n",
    "Types of Variables in Python\n",
    "int – Integer (e.g., 10, -5, 1000)\n",
    "\n",
    "float – Decimal number (e.g., 3.14, -0.001, 2.5)\n",
    "\n",
    "str – String (e.g., \"hello\", 'Python')\n",
    "\n",
    "list – Ordered, mutable collection (e.g., [1, 2, 3])\n",
    "\n",
    "tuple – Ordered, immutable collection (e.g., (1, 2, 3))\n",
    "\n",
    "dict – Key-value pair collection (e.g., {\"name\": \"John\", \"age\": 30})\n",
    "\n",
    "set – Unordered, unique values collection (e.g., {1, 2, 3})\n",
    "\n",
    "bool – Boolean (e.g., True, False)"
   ]
  },
  {
   "cell_type": "code",
   "execution_count": 16,
   "metadata": {},
   "outputs": [],
   "source": [
    "age = 77"
   ]
  },
  {
   "cell_type": "code",
   "execution_count": 14,
   "metadata": {},
   "outputs": [],
   "source": [
    "book  =\"abubakr\""
   ]
  },
  {
   "cell_type": "code",
   "execution_count": null,
   "metadata": {},
   "outputs": [],
   "source": []
  },
  {
   "cell_type": "code",
   "execution_count": 17,
   "metadata": {},
   "outputs": [
    {
     "name": "stdout",
     "output_type": "stream",
     "text": [
      "My name is abubakr I am 77 years old.\n"
     ]
    }
   ],
   "source": [
    "print(\"My name is\", book, \"I am\", age, \"years old.\")\n"
   ]
  },
  {
   "cell_type": "code",
   "execution_count": 18,
   "metadata": {},
   "outputs": [],
   "source": [
    "height = 4.4"
   ]
  },
  {
   "cell_type": "code",
   "execution_count": 19,
   "metadata": {},
   "outputs": [],
   "source": [
    "area = height + 2 "
   ]
  }
 ],
 "metadata": {
  "kernelspec": {
   "display_name": "base",
   "language": "python",
   "name": "python3"
  },
  "language_info": {
   "codemirror_mode": {
    "name": "ipython",
    "version": 3
   },
   "file_extension": ".py",
   "mimetype": "text/x-python",
   "name": "python",
   "nbconvert_exporter": "python",
   "pygments_lexer": "ipython3",
   "version": "3.12.7"
  }
 },
 "nbformat": 4,
 "nbformat_minor": 2
}
