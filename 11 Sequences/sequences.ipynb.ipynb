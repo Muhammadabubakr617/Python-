{
 "cells": [
  {
   "cell_type": "markdown",
   "id": "5c5aa243",
   "metadata": {},
   "source": [
    "# Sequences"
   ]
  },
  {
   "cell_type": "code",
   "execution_count": 32,
   "id": "6ce1328b",
   "metadata": {},
   "outputs": [],
   "source": [
    "list_1 =[10,20,30]\n"
   ]
  },
  {
   "cell_type": "code",
   "execution_count": 33,
   "id": "3754bb2c",
   "metadata": {},
   "outputs": [
    {
     "name": "stdout",
     "output_type": "stream",
     "text": [
      "[10, 20, 30]\n"
     ]
    }
   ],
   "source": [
    "print(list_1)"
   ]
  },
  {
   "cell_type": "code",
   "execution_count": 16,
   "id": "0fa773f8",
   "metadata": {},
   "outputs": [],
   "source": [
    "fruits = [\"apples\",\"Mangoes\",\"grapes\"]"
   ]
  },
  {
   "cell_type": "code",
   "execution_count": 17,
   "id": "7c003c27",
   "metadata": {},
   "outputs": [
    {
     "data": {
      "text/plain": [
       "['apples', 'Mangoes', 'grapes']"
      ]
     },
     "execution_count": 17,
     "metadata": {},
     "output_type": "execute_result"
    }
   ],
   "source": [
    "fruits\n"
   ]
  },
  {
   "cell_type": "markdown",
   "id": "6fb8ad0e",
   "metadata": {},
   "source": [
    "> **it is important to note that  range function in sequence work only when add list on it  like  print *(list(space))**"
   ]
  },
  {
   "cell_type": "code",
   "execution_count": 26,
   "id": "3e2a45f7",
   "metadata": {},
   "outputs": [
    {
     "name": "stdout",
     "output_type": "stream",
     "text": [
      "[0, 2, 4, 6, 8, 10, 12, 14, 16, 18]\n"
     ]
    }
   ],
   "source": [
    "space = range(0,20,2)\n",
    "print(list(space))"
   ]
  },
  {
   "cell_type": "code",
   "execution_count": 27,
   "id": "130a5594",
   "metadata": {},
   "outputs": [
    {
     "name": "stdout",
     "output_type": "stream",
     "text": [
      "True\n"
     ]
    }
   ],
   "source": [
    "print( \"apples\" in fruits)"
   ]
  },
  {
   "cell_type": "code",
   "execution_count": 34,
   "id": "796c6d14",
   "metadata": {},
   "outputs": [
    {
     "data": {
      "text/plain": [
       "[10, 20, 30, 10, 20, 30]"
      ]
     },
     "execution_count": 34,
     "metadata": {},
     "output_type": "execute_result"
    }
   ],
   "source": [
    "list_1 * 2"
   ]
  }
 ],
 "metadata": {
  "kernelspec": {
   "display_name": "base",
   "language": "python",
   "name": "python3"
  },
  "language_info": {
   "codemirror_mode": {
    "name": "ipython",
    "version": 3
   },
   "file_extension": ".py",
   "mimetype": "text/x-python",
   "name": "python",
   "nbconvert_exporter": "python",
   "pygments_lexer": "ipython3",
   "version": "3.12.7"
  }
 },
 "nbformat": 4,
 "nbformat_minor": 5
}
