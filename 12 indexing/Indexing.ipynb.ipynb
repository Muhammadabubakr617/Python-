{
 "cells": [
  {
   "cell_type": "code",
   "execution_count": 10,
   "id": "1d772e6e",
   "metadata": {},
   "outputs": [],
   "source": [
    "name = \"Learning\""
   ]
  },
  {
   "cell_type": "code",
   "execution_count": 11,
   "id": "96473e24",
   "metadata": {},
   "outputs": [
    {
     "data": {
      "text/plain": [
       "8"
      ]
     },
     "execution_count": 11,
     "metadata": {},
     "output_type": "execute_result"
    }
   ],
   "source": [
    "len(name)"
   ]
  },
  {
   "cell_type": "code",
   "execution_count": 12,
   "id": "b53395f0",
   "metadata": {},
   "outputs": [
    {
     "data": {
      "text/plain": [
       "'a'"
      ]
     },
     "execution_count": 12,
     "metadata": {},
     "output_type": "execute_result"
    }
   ],
   "source": [
    "name[2]"
   ]
  },
  {
   "cell_type": "code",
   "execution_count": null,
   "id": "6a21803c",
   "metadata": {},
   "outputs": [
    {
     "data": {
      "text/plain": [
       "'a'"
      ]
     },
     "metadata": {},
     "output_type": "display_data"
    }
   ],
   "source": [
    "name[2]"
   ]
  },
  {
   "cell_type": "markdown",
   "id": "22fc0e8e",
   "metadata": {},
   "source": [
    ">#### _The range range(2, 6) starts at 2 and includes values up to, but does not include, 6. So, it will give the values 2, 3, 4, and 5. The value 6 is not included in the range_"
   ]
  },
  {
   "cell_type": "code",
   "execution_count": 6,
   "id": "21d3d5b5",
   "metadata": {},
   "outputs": [
    {
     "data": {
      "text/plain": [
       "'arni'"
      ]
     },
     "execution_count": 6,
     "metadata": {},
     "output_type": "execute_result"
    }
   ],
   "source": [
    "name[2:6]"
   ]
  },
  {
   "cell_type": "code",
   "execution_count": 7,
   "id": "c60ae697",
   "metadata": {},
   "outputs": [
    {
     "data": {
      "text/plain": [
       "'arning'"
      ]
     },
     "execution_count": 7,
     "metadata": {},
     "output_type": "execute_result"
    }
   ],
   "source": [
    "name[2:]"
   ]
  },
  {
   "cell_type": "code",
   "execution_count": 8,
   "id": "2cbfa1c9",
   "metadata": {},
   "outputs": [
    {
     "data": {
      "text/plain": [
       "'rnin'"
      ]
     },
     "execution_count": 8,
     "metadata": {},
     "output_type": "execute_result"
    }
   ],
   "source": [
    "name[-5: -1 ]"
   ]
  }
 ],
 "metadata": {
  "kernelspec": {
   "display_name": "base",
   "language": "python",
   "name": "python3"
  },
  "language_info": {
   "codemirror_mode": {
    "name": "ipython",
    "version": 3
   },
   "file_extension": ".py",
   "mimetype": "text/x-python",
   "name": "python",
   "nbconvert_exporter": "python",
   "pygments_lexer": "ipython3",
   "version": "3.12.7"
  }
 },
 "nbformat": 4,
 "nbformat_minor": 5
}
